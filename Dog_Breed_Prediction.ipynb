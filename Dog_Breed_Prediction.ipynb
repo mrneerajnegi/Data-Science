{
  "cells": [
    {
      "cell_type": "markdown",
      "metadata": {
        "id": "view-in-github",
        "colab_type": "text"
      },
      "source": [
        "<a href=\"https://colab.research.google.com/github/mrneerajnegi/Data-Science-Projects/blob/Dog-Bread-Prediction/Dog_Breed_Prediction.ipynb\" target=\"_parent\"><img src=\"https://colab.research.google.com/assets/colab-badge.svg\" alt=\"Open In Colab\"/></a>"
      ]
    },
    {
      "cell_type": "code",
      "execution_count": 3,
      "metadata": {
        "id": "_s60aCTQjYON",
        "colab": {
          "resources": {
            "http://localhost:8080/nbextensions/google.colab/files.js": {
              "data": "Ly8gQ29weXJpZ2h0IDIwMTcgR29vZ2xlIExMQwovLwovLyBMaWNlbnNlZCB1bmRlciB0aGUgQXBhY2hlIExpY2Vuc2UsIFZlcnNpb24gMi4wICh0aGUgIkxpY2Vuc2UiKTsKLy8geW91IG1heSBub3QgdXNlIHRoaXMgZmlsZSBleGNlcHQgaW4gY29tcGxpYW5jZSB3aXRoIHRoZSBMaWNlbnNlLgovLyBZb3UgbWF5IG9idGFpbiBhIGNvcHkgb2YgdGhlIExpY2Vuc2UgYXQKLy8KLy8gICAgICBodHRwOi8vd3d3LmFwYWNoZS5vcmcvbGljZW5zZXMvTElDRU5TRS0yLjAKLy8KLy8gVW5sZXNzIHJlcXVpcmVkIGJ5IGFwcGxpY2FibGUgbGF3IG9yIGFncmVlZCB0byBpbiB3cml0aW5nLCBzb2Z0d2FyZQovLyBkaXN0cmlidXRlZCB1bmRlciB0aGUgTGljZW5zZSBpcyBkaXN0cmlidXRlZCBvbiBhbiAiQVMgSVMiIEJBU0lTLAovLyBXSVRIT1VUIFdBUlJBTlRJRVMgT1IgQ09ORElUSU9OUyBPRiBBTlkgS0lORCwgZWl0aGVyIGV4cHJlc3Mgb3IgaW1wbGllZC4KLy8gU2VlIHRoZSBMaWNlbnNlIGZvciB0aGUgc3BlY2lmaWMgbGFuZ3VhZ2UgZ292ZXJuaW5nIHBlcm1pc3Npb25zIGFuZAovLyBsaW1pdGF0aW9ucyB1bmRlciB0aGUgTGljZW5zZS4KCi8qKgogKiBAZmlsZW92ZXJ2aWV3IEhlbHBlcnMgZm9yIGdvb2dsZS5jb2xhYiBQeXRob24gbW9kdWxlLgogKi8KKGZ1bmN0aW9uKHNjb3BlKSB7CmZ1bmN0aW9uIHNwYW4odGV4dCwgc3R5bGVBdHRyaWJ1dGVzID0ge30pIHsKICBjb25zdCBlbGVtZW50ID0gZG9jdW1lbnQuY3JlYXRlRWxlbWVudCgnc3BhbicpOwogIGVsZW1lbnQudGV4dENvbnRlbnQgPSB0ZXh0OwogIGZvciAoY29uc3Qga2V5IG9mIE9iamVjdC5rZXlzKHN0eWxlQXR0cmlidXRlcykpIHsKICAgIGVsZW1lbnQuc3R5bGVba2V5XSA9IHN0eWxlQXR0cmlidXRlc1trZXldOwogIH0KICByZXR1cm4gZWxlbWVudDsKfQoKLy8gTWF4IG51bWJlciBvZiBieXRlcyB3aGljaCB3aWxsIGJlIHVwbG9hZGVkIGF0IGEgdGltZS4KY29uc3QgTUFYX1BBWUxPQURfU0laRSA9IDEwMCAqIDEwMjQ7CgpmdW5jdGlvbiBfdXBsb2FkRmlsZXMoaW5wdXRJZCwgb3V0cHV0SWQpIHsKICBjb25zdCBzdGVwcyA9IHVwbG9hZEZpbGVzU3RlcChpbnB1dElkLCBvdXRwdXRJZCk7CiAgY29uc3Qgb3V0cHV0RWxlbWVudCA9IGRvY3VtZW50LmdldEVsZW1lbnRCeUlkKG91dHB1dElkKTsKICAvLyBDYWNoZSBzdGVwcyBvbiB0aGUgb3V0cHV0RWxlbWVudCB0byBtYWtlIGl0IGF2YWlsYWJsZSBmb3IgdGhlIG5leHQgY2FsbAogIC8vIHRvIHVwbG9hZEZpbGVzQ29udGludWUgZnJvbSBQeXRob24uCiAgb3V0cHV0RWxlbWVudC5zdGVwcyA9IHN0ZXBzOwoKICByZXR1cm4gX3VwbG9hZEZpbGVzQ29udGludWUob3V0cHV0SWQpOwp9CgovLyBUaGlzIGlzIHJvdWdobHkgYW4gYXN5bmMgZ2VuZXJhdG9yIChub3Qgc3VwcG9ydGVkIGluIHRoZSBicm93c2VyIHlldCksCi8vIHdoZXJlIHRoZXJlIGFyZSBtdWx0aXBsZSBhc3luY2hyb25vdXMgc3RlcHMgYW5kIHRoZSBQeXRob24gc2lkZSBpcyBnb2luZwovLyB0byBwb2xsIGZvciBjb21wbGV0aW9uIG9mIGVhY2ggc3RlcC4KLy8gVGhpcyB1c2VzIGEgUHJvbWlzZSB0byBibG9jayB0aGUgcHl0aG9uIHNpZGUgb24gY29tcGxldGlvbiBvZiBlYWNoIHN0ZXAsCi8vIHRoZW4gcGFzc2VzIHRoZSByZXN1bHQgb2YgdGhlIHByZXZpb3VzIHN0ZXAgYXMgdGhlIGlucHV0IHRvIHRoZSBuZXh0IHN0ZXAuCmZ1bmN0aW9uIF91cGxvYWRGaWxlc0NvbnRpbnVlKG91dHB1dElkKSB7CiAgY29uc3Qgb3V0cHV0RWxlbWVudCA9IGRvY3VtZW50LmdldEVsZW1lbnRCeUlkKG91dHB1dElkKTsKICBjb25zdCBzdGVwcyA9IG91dHB1dEVsZW1lbnQuc3RlcHM7CgogIGNvbnN0IG5leHQgPSBzdGVwcy5uZXh0KG91dHB1dEVsZW1lbnQubGFzdFByb21pc2VWYWx1ZSk7CiAgcmV0dXJuIFByb21pc2UucmVzb2x2ZShuZXh0LnZhbHVlLnByb21pc2UpLnRoZW4oKHZhbHVlKSA9PiB7CiAgICAvLyBDYWNoZSB0aGUgbGFzdCBwcm9taXNlIHZhbHVlIHRvIG1ha2UgaXQgYXZhaWxhYmxlIHRvIHRoZSBuZXh0CiAgICAvLyBzdGVwIG9mIHRoZSBnZW5lcmF0b3IuCiAgICBvdXRwdXRFbGVtZW50Lmxhc3RQcm9taXNlVmFsdWUgPSB2YWx1ZTsKICAgIHJldHVybiBuZXh0LnZhbHVlLnJlc3BvbnNlOwogIH0pOwp9CgovKioKICogR2VuZXJhdG9yIGZ1bmN0aW9uIHdoaWNoIGlzIGNhbGxlZCBiZXR3ZWVuIGVhY2ggYXN5bmMgc3RlcCBvZiB0aGUgdXBsb2FkCiAqIHByb2Nlc3MuCiAqIEBwYXJhbSB7c3RyaW5nfSBpbnB1dElkIEVsZW1lbnQgSUQgb2YgdGhlIGlucHV0IGZpbGUgcGlja2VyIGVsZW1lbnQuCiAqIEBwYXJhbSB7c3RyaW5nfSBvdXRwdXRJZCBFbGVtZW50IElEIG9mIHRoZSBvdXRwdXQgZGlzcGxheS4KICogQHJldHVybiB7IUl0ZXJhYmxlPCFPYmplY3Q+fSBJdGVyYWJsZSBvZiBuZXh0IHN0ZXBzLgogKi8KZnVuY3Rpb24qIHVwbG9hZEZpbGVzU3RlcChpbnB1dElkLCBvdXRwdXRJZCkgewogIGNvbnN0IGlucHV0RWxlbWVudCA9IGRvY3VtZW50LmdldEVsZW1lbnRCeUlkKGlucHV0SWQpOwogIGlucHV0RWxlbWVudC5kaXNhYmxlZCA9IGZhbHNlOwoKICBjb25zdCBvdXRwdXRFbGVtZW50ID0gZG9jdW1lbnQuZ2V0RWxlbWVudEJ5SWQob3V0cHV0SWQpOwogIG91dHB1dEVsZW1lbnQuaW5uZXJIVE1MID0gJyc7CgogIGNvbnN0IHBpY2tlZFByb21pc2UgPSBuZXcgUHJvbWlzZSgocmVzb2x2ZSkgPT4gewogICAgaW5wdXRFbGVtZW50LmFkZEV2ZW50TGlzdGVuZXIoJ2NoYW5nZScsIChlKSA9PiB7CiAgICAgIHJlc29sdmUoZS50YXJnZXQuZmlsZXMpOwogICAgfSk7CiAgfSk7CgogIGNvbnN0IGNhbmNlbCA9IGRvY3VtZW50LmNyZWF0ZUVsZW1lbnQoJ2J1dHRvbicpOwogIGlucHV0RWxlbWVudC5wYXJlbnRFbGVtZW50LmFwcGVuZENoaWxkKGNhbmNlbCk7CiAgY2FuY2VsLnRleHRDb250ZW50ID0gJ0NhbmNlbCB1cGxvYWQnOwogIGNvbnN0IGNhbmNlbFByb21pc2UgPSBuZXcgUHJvbWlzZSgocmVzb2x2ZSkgPT4gewogICAgY2FuY2VsLm9uY2xpY2sgPSAoKSA9PiB7CiAgICAgIHJlc29sdmUobnVsbCk7CiAgICB9OwogIH0pOwoKICAvLyBXYWl0IGZvciB0aGUgdXNlciB0byBwaWNrIHRoZSBmaWxlcy4KICBjb25zdCBmaWxlcyA9IHlpZWxkIHsKICAgIHByb21pc2U6IFByb21pc2UucmFjZShbcGlja2VkUHJvbWlzZSwgY2FuY2VsUHJvbWlzZV0pLAogICAgcmVzcG9uc2U6IHsKICAgICAgYWN0aW9uOiAnc3RhcnRpbmcnLAogICAgfQogIH07CgogIGNhbmNlbC5yZW1vdmUoKTsKCiAgLy8gRGlzYWJsZSB0aGUgaW5wdXQgZWxlbWVudCBzaW5jZSBmdXJ0aGVyIHBpY2tzIGFyZSBub3QgYWxsb3dlZC4KICBpbnB1dEVsZW1lbnQuZGlzYWJsZWQgPSB0cnVlOwoKICBpZiAoIWZpbGVzKSB7CiAgICByZXR1cm4gewogICAgICByZXNwb25zZTogewogICAgICAgIGFjdGlvbjogJ2NvbXBsZXRlJywKICAgICAgfQogICAgfTsKICB9CgogIGZvciAoY29uc3QgZmlsZSBvZiBmaWxlcykgewogICAgY29uc3QgbGkgPSBkb2N1bWVudC5jcmVhdGVFbGVtZW50KCdsaScpOwogICAgbGkuYXBwZW5kKHNwYW4oZmlsZS5uYW1lLCB7Zm9udFdlaWdodDogJ2JvbGQnfSkpOwogICAgbGkuYXBwZW5kKHNwYW4oCiAgICAgICAgYCgke2ZpbGUudHlwZSB8fCAnbi9hJ30pIC0gJHtmaWxlLnNpemV9IGJ5dGVzLCBgICsKICAgICAgICBgbGFzdCBtb2RpZmllZDogJHsKICAgICAgICAgICAgZmlsZS5sYXN0TW9kaWZpZWREYXRlID8gZmlsZS5sYXN0TW9kaWZpZWREYXRlLnRvTG9jYWxlRGF0ZVN0cmluZygpIDoKICAgICAgICAgICAgICAgICAgICAgICAgICAgICAgICAgICAgJ24vYSd9IC0gYCkpOwogICAgY29uc3QgcGVyY2VudCA9IHNwYW4oJzAlIGRvbmUnKTsKICAgIGxpLmFwcGVuZENoaWxkKHBlcmNlbnQpOwoKICAgIG91dHB1dEVsZW1lbnQuYXBwZW5kQ2hpbGQobGkpOwoKICAgIGNvbnN0IGZpbGVEYXRhUHJvbWlzZSA9IG5ldyBQcm9taXNlKChyZXNvbHZlKSA9PiB7CiAgICAgIGNvbnN0IHJlYWRlciA9IG5ldyBGaWxlUmVhZGVyKCk7CiAgICAgIHJlYWRlci5vbmxvYWQgPSAoZSkgPT4gewogICAgICAgIHJlc29sdmUoZS50YXJnZXQucmVzdWx0KTsKICAgICAgfTsKICAgICAgcmVhZGVyLnJlYWRBc0FycmF5QnVmZmVyKGZpbGUpOwogICAgfSk7CiAgICAvLyBXYWl0IGZvciB0aGUgZGF0YSB0byBiZSByZWFkeS4KICAgIGxldCBmaWxlRGF0YSA9IHlpZWxkIHsKICAgICAgcHJvbWlzZTogZmlsZURhdGFQcm9taXNlLAogICAgICByZXNwb25zZTogewogICAgICAgIGFjdGlvbjogJ2NvbnRpbnVlJywKICAgICAgfQogICAgfTsKCiAgICAvLyBVc2UgYSBjaHVua2VkIHNlbmRpbmcgdG8gYXZvaWQgbWVzc2FnZSBzaXplIGxpbWl0cy4gU2VlIGIvNjIxMTU2NjAuCiAgICBsZXQgcG9zaXRpb24gPSAwOwogICAgZG8gewogICAgICBjb25zdCBsZW5ndGggPSBNYXRoLm1pbihmaWxlRGF0YS5ieXRlTGVuZ3RoIC0gcG9zaXRpb24sIE1BWF9QQVlMT0FEX1NJWkUpOwogICAgICBjb25zdCBjaHVuayA9IG5ldyBVaW50OEFycmF5KGZpbGVEYXRhLCBwb3NpdGlvbiwgbGVuZ3RoKTsKICAgICAgcG9zaXRpb24gKz0gbGVuZ3RoOwoKICAgICAgY29uc3QgYmFzZTY0ID0gYnRvYShTdHJpbmcuZnJvbUNoYXJDb2RlLmFwcGx5KG51bGwsIGNodW5rKSk7CiAgICAgIHlpZWxkIHsKICAgICAgICByZXNwb25zZTogewogICAgICAgICAgYWN0aW9uOiAnYXBwZW5kJywKICAgICAgICAgIGZpbGU6IGZpbGUubmFtZSwKICAgICAgICAgIGRhdGE6IGJhc2U2NCwKICAgICAgICB9LAogICAgICB9OwoKICAgICAgbGV0IHBlcmNlbnREb25lID0gZmlsZURhdGEuYnl0ZUxlbmd0aCA9PT0gMCA/CiAgICAgICAgICAxMDAgOgogICAgICAgICAgTWF0aC5yb3VuZCgocG9zaXRpb24gLyBmaWxlRGF0YS5ieXRlTGVuZ3RoKSAqIDEwMCk7CiAgICAgIHBlcmNlbnQudGV4dENvbnRlbnQgPSBgJHtwZXJjZW50RG9uZX0lIGRvbmVgOwoKICAgIH0gd2hpbGUgKHBvc2l0aW9uIDwgZmlsZURhdGEuYnl0ZUxlbmd0aCk7CiAgfQoKICAvLyBBbGwgZG9uZS4KICB5aWVsZCB7CiAgICByZXNwb25zZTogewogICAgICBhY3Rpb246ICdjb21wbGV0ZScsCiAgICB9CiAgfTsKfQoKc2NvcGUuZ29vZ2xlID0gc2NvcGUuZ29vZ2xlIHx8IHt9OwpzY29wZS5nb29nbGUuY29sYWIgPSBzY29wZS5nb29nbGUuY29sYWIgfHwge307CnNjb3BlLmdvb2dsZS5jb2xhYi5fZmlsZXMgPSB7CiAgX3VwbG9hZEZpbGVzLAogIF91cGxvYWRGaWxlc0NvbnRpbnVlLAp9Owp9KShzZWxmKTsK",
              "ok": true,
              "headers": [
                [
                  "content-type",
                  "application/javascript"
                ]
              ],
              "status": 200,
              "status_text": ""
            }
          },
          "base_uri": "https://localhost:8080/",
          "height": 90
        },
        "outputId": "a7ff0656-3b9c-418a-8448-be317b70e39d"
      },
      "outputs": [
        {
          "output_type": "display_data",
          "data": {
            "text/html": [
              "\n",
              "     <input type=\"file\" id=\"files-2dcda013-e160-4eba-bb59-e93af3f68e7a\" name=\"files[]\" multiple disabled\n",
              "        style=\"border:none\" />\n",
              "     <output id=\"result-2dcda013-e160-4eba-bb59-e93af3f68e7a\">\n",
              "      Upload widget is only available when the cell has been executed in the\n",
              "      current browser session. Please rerun this cell to enable.\n",
              "      </output>\n",
              "      <script src=\"/nbextensions/google.colab/files.js\"></script> "
            ],
            "text/plain": [
              "<IPython.core.display.HTML object>"
            ]
          },
          "metadata": {}
        },
        {
          "output_type": "stream",
          "name": "stdout",
          "text": [
            "Saving kaggle.json to kaggle.json\n"
          ]
        },
        {
          "output_type": "execute_result",
          "data": {
            "text/plain": [
              "{'kaggle.json': b'{\"username\":\"neerajnegii\",\"key\":\"2e5c4c4e622aaa0e830c5a66ee8fa43b\"}'}"
            ]
          },
          "metadata": {},
          "execution_count": 3
        }
      ],
      "source": [
        "#import files to upload kaggle.json file\n",
        "from google.colab import files\n",
        "files.upload()"
      ]
    },
    {
      "cell_type": "code",
      "execution_count": 4,
      "metadata": {
        "id": "KHVMHN7njgdp"
      },
      "outputs": [],
      "source": [
        "#install kaggle\n",
        "!pip install -q kaggle"
      ]
    },
    {
      "cell_type": "code",
      "execution_count": 5,
      "metadata": {
        "id": "cue8jtTHjuKT"
      },
      "outputs": [],
      "source": [
        "#make kaggle folder\n",
        "!mkdir ~/.kaggle\n",
        "#!rm -rf /root/.kaggle"
      ]
    },
    {
      "cell_type": "code",
      "execution_count": 6,
      "metadata": {
        "id": "8niJIMM4joGm"
      },
      "outputs": [],
      "source": [
        "#copy json file to that folder\n",
        "!cp kaggle.json ~/.kaggle/"
      ]
    },
    {
      "cell_type": "code",
      "execution_count": 7,
      "metadata": {
        "id": "cGEb7zU_jqVf"
      },
      "outputs": [],
      "source": [
        "#to avaid  permission issues\n",
        "! chmod 600 ~/.kaggle/kaggle.json"
      ]
    },
    {
      "cell_type": "code",
      "execution_count": 8,
      "metadata": {
        "id": "ti5wG_2UjyvD"
      },
      "outputs": [],
      "source": [
        "#make datasetfolder\n",
        "!mkdir dog_dataset"
      ]
    },
    {
      "cell_type": "code",
      "execution_count": 9,
      "metadata": {
        "colab": {
          "base_uri": "https://localhost:8080/"
        },
        "id": "PXP0QegDj7-C",
        "outputId": "9ae0fd5d-8c32-4646-dd60-577e83d1a219"
      },
      "outputs": [
        {
          "output_type": "stream",
          "name": "stdout",
          "text": [
            "/content/dog_dataset\n"
          ]
        }
      ],
      "source": [
        "#enter in it\n",
        "%cd dog_dataset"
      ]
    },
    {
      "cell_type": "code",
      "execution_count": 10,
      "metadata": {
        "colab": {
          "base_uri": "https://localhost:8080/"
        },
        "id": "zoAia-Yvj_C9",
        "outputId": "4d7e223e-ade1-4d7b-c294-6ea13f583f2a"
      },
      "outputs": [
        {
          "output_type": "stream",
          "name": "stdout",
          "text": [
            "Downloading dogbreedidfromcomp.zip to /content/dog_dataset\n",
            " 97% 671M/691M [00:04<00:00, 176MB/s]\n",
            "100% 691M/691M [00:05<00:00, 144MB/s]\n"
          ]
        }
      ],
      "source": [
        "#download the dataset from kaggle\n",
        "!kaggle datasets download catherinehorng/dogbreedidfromcomp"
      ]
    },
    {
      "cell_type": "code",
      "execution_count": null,
      "metadata": {
        "id": "eW5zO5OhkK0z"
      },
      "outputs": [],
      "source": [
        "#unzip it\n",
        "!unzip dogbreedidfromcomp.zip -d dog_dataset"
      ]
    },
    {
      "cell_type": "code",
      "execution_count": 12,
      "metadata": {
        "id": "uUu7V5HWkRoM"
      },
      "outputs": [],
      "source": [
        "#remove the extra files\n",
        "!rm dog_dataset/sample_submission.csv"
      ]
    },
    {
      "cell_type": "code",
      "execution_count": 13,
      "metadata": {
        "id": "UB_lxeF7k6cV"
      },
      "outputs": [],
      "source": [
        "#remove zip file\n",
        "!rm dogbreedidfromcomp.zip"
      ]
    },
    {
      "cell_type": "code",
      "execution_count": 14,
      "metadata": {
        "id": "op-YqnSWlA6A"
      },
      "outputs": [],
      "source": [
        "import matplotlib.pyplot as plt\n",
        "from keras.layers import Dense,Flatten,MaxPool2D,Conv2D\n",
        "import pandas as pd\n",
        "import numpy as np\n",
        "from keras.models import Sequential\n",
        "from sklearn.model_selection import train_test_split\n",
        "from tensorflow.keras.optimizers import Adam\n",
        "from tensorflow.keras.preprocessing import image\n",
        "from tqdm import tqdm\n",
        "from PIL import Image\n",
        "from sklearn.preprocessing import label_binarize"
      ]
    },
    {
      "cell_type": "code",
      "execution_count": 15,
      "metadata": {
        "colab": {
          "base_uri": "https://localhost:8080/",
          "height": 204
        },
        "id": "vCMdijoEn_cw",
        "outputId": "100d1e53-dfe2-435c-8e65-8d32147619a1"
      },
      "outputs": [
        {
          "output_type": "execute_result",
          "data": {
            "text/html": [
              "\n",
              "  <div id=\"df-bb4632fc-8396-4de1-bdb3-a4d89d83335a\">\n",
              "    <div class=\"colab-df-container\">\n",
              "      <div>\n",
              "<style scoped>\n",
              "    .dataframe tbody tr th:only-of-type {\n",
              "        vertical-align: middle;\n",
              "    }\n",
              "\n",
              "    .dataframe tbody tr th {\n",
              "        vertical-align: top;\n",
              "    }\n",
              "\n",
              "    .dataframe thead th {\n",
              "        text-align: right;\n",
              "    }\n",
              "</style>\n",
              "<table border=\"1\" class=\"dataframe\">\n",
              "  <thead>\n",
              "    <tr style=\"text-align: right;\">\n",
              "      <th></th>\n",
              "      <th>id</th>\n",
              "      <th>breed</th>\n",
              "    </tr>\n",
              "  </thead>\n",
              "  <tbody>\n",
              "    <tr>\n",
              "      <th>0</th>\n",
              "      <td>000bec180eb18c7604dcecc8fe0dba07</td>\n",
              "      <td>boston_bull</td>\n",
              "    </tr>\n",
              "    <tr>\n",
              "      <th>1</th>\n",
              "      <td>001513dfcb2ffafc82cccf4d8bbaba97</td>\n",
              "      <td>dingo</td>\n",
              "    </tr>\n",
              "    <tr>\n",
              "      <th>2</th>\n",
              "      <td>001cdf01b096e06d78e9e5112d419397</td>\n",
              "      <td>pekinese</td>\n",
              "    </tr>\n",
              "    <tr>\n",
              "      <th>3</th>\n",
              "      <td>00214f311d5d2247d5dfe4fe24b2303d</td>\n",
              "      <td>bluetick</td>\n",
              "    </tr>\n",
              "    <tr>\n",
              "      <th>4</th>\n",
              "      <td>0021f9ceb3235effd7fcde7f7538ed62</td>\n",
              "      <td>golden_retriever</td>\n",
              "    </tr>\n",
              "  </tbody>\n",
              "</table>\n",
              "</div>\n",
              "      <button class=\"colab-df-convert\" onclick=\"convertToInteractive('df-bb4632fc-8396-4de1-bdb3-a4d89d83335a')\"\n",
              "              title=\"Convert this dataframe to an interactive table.\"\n",
              "              style=\"display:none;\">\n",
              "        \n",
              "  <svg xmlns=\"http://www.w3.org/2000/svg\" height=\"24px\"viewBox=\"0 0 24 24\"\n",
              "       width=\"24px\">\n",
              "    <path d=\"M0 0h24v24H0V0z\" fill=\"none\"/>\n",
              "    <path d=\"M18.56 5.44l.94 2.06.94-2.06 2.06-.94-2.06-.94-.94-2.06-.94 2.06-2.06.94zm-11 1L8.5 8.5l.94-2.06 2.06-.94-2.06-.94L8.5 2.5l-.94 2.06-2.06.94zm10 10l.94 2.06.94-2.06 2.06-.94-2.06-.94-.94-2.06-.94 2.06-2.06.94z\"/><path d=\"M17.41 7.96l-1.37-1.37c-.4-.4-.92-.59-1.43-.59-.52 0-1.04.2-1.43.59L10.3 9.45l-7.72 7.72c-.78.78-.78 2.05 0 2.83L4 21.41c.39.39.9.59 1.41.59.51 0 1.02-.2 1.41-.59l7.78-7.78 2.81-2.81c.8-.78.8-2.07 0-2.86zM5.41 20L4 18.59l7.72-7.72 1.47 1.35L5.41 20z\"/>\n",
              "  </svg>\n",
              "      </button>\n",
              "      \n",
              "  <style>\n",
              "    .colab-df-container {\n",
              "      display:flex;\n",
              "      flex-wrap:wrap;\n",
              "      gap: 12px;\n",
              "    }\n",
              "\n",
              "    .colab-df-convert {\n",
              "      background-color: #E8F0FE;\n",
              "      border: none;\n",
              "      border-radius: 50%;\n",
              "      cursor: pointer;\n",
              "      display: none;\n",
              "      fill: #1967D2;\n",
              "      height: 32px;\n",
              "      padding: 0 0 0 0;\n",
              "      width: 32px;\n",
              "    }\n",
              "\n",
              "    .colab-df-convert:hover {\n",
              "      background-color: #E2EBFA;\n",
              "      box-shadow: 0px 1px 2px rgba(60, 64, 67, 0.3), 0px 1px 3px 1px rgba(60, 64, 67, 0.15);\n",
              "      fill: #174EA6;\n",
              "    }\n",
              "\n",
              "    [theme=dark] .colab-df-convert {\n",
              "      background-color: #3B4455;\n",
              "      fill: #D2E3FC;\n",
              "    }\n",
              "\n",
              "    [theme=dark] .colab-df-convert:hover {\n",
              "      background-color: #434B5C;\n",
              "      box-shadow: 0px 1px 3px 1px rgba(0, 0, 0, 0.15);\n",
              "      filter: drop-shadow(0px 1px 2px rgba(0, 0, 0, 0.3));\n",
              "      fill: #FFFFFF;\n",
              "    }\n",
              "  </style>\n",
              "\n",
              "      <script>\n",
              "        const buttonEl =\n",
              "          document.querySelector('#df-bb4632fc-8396-4de1-bdb3-a4d89d83335a button.colab-df-convert');\n",
              "        buttonEl.style.display =\n",
              "          google.colab.kernel.accessAllowed ? 'block' : 'none';\n",
              "\n",
              "        async function convertToInteractive(key) {\n",
              "          const element = document.querySelector('#df-bb4632fc-8396-4de1-bdb3-a4d89d83335a');\n",
              "          const dataTable =\n",
              "            await google.colab.kernel.invokeFunction('convertToInteractive',\n",
              "                                                     [key], {});\n",
              "          if (!dataTable) return;\n",
              "\n",
              "          const docLinkHtml = 'Like what you see? Visit the ' +\n",
              "            '<a target=\"_blank\" href=https://colab.research.google.com/notebooks/data_table.ipynb>data table notebook</a>'\n",
              "            + ' to learn more about interactive tables.';\n",
              "          element.innerHTML = '';\n",
              "          dataTable['output_type'] = 'display_data';\n",
              "          await google.colab.output.renderOutput(dataTable, element);\n",
              "          const docLink = document.createElement('div');\n",
              "          docLink.innerHTML = docLinkHtml;\n",
              "          element.appendChild(docLink);\n",
              "        }\n",
              "      </script>\n",
              "    </div>\n",
              "  </div>\n",
              "  "
            ],
            "text/plain": [
              "                                 id             breed\n",
              "0  000bec180eb18c7604dcecc8fe0dba07       boston_bull\n",
              "1  001513dfcb2ffafc82cccf4d8bbaba97             dingo\n",
              "2  001cdf01b096e06d78e9e5112d419397          pekinese\n",
              "3  00214f311d5d2247d5dfe4fe24b2303d          bluetick\n",
              "4  0021f9ceb3235effd7fcde7f7538ed62  golden_retriever"
            ]
          },
          "metadata": {},
          "execution_count": 15
        }
      ],
      "source": [
        "labels=pd.read_csv(\"./dog_dataset/labels.csv\")\n",
        "labels.head()"
      ]
    },
    {
      "cell_type": "code",
      "execution_count": 16,
      "metadata": {
        "colab": {
          "base_uri": "https://localhost:8080/"
        },
        "id": "Y6FyfabT3rqv",
        "outputId": "17f11cce-603f-4787-f6af-2dbc50730e16"
      },
      "outputs": [
        {
          "output_type": "execute_result",
          "data": {
            "text/plain": [
              "scottish_deerhound      126\n",
              "maltese_dog             117\n",
              "afghan_hound            116\n",
              "entlebucher             115\n",
              "bernese_mountain_dog    114\n",
              "                       ... \n",
              "komondor                 67\n",
              "brabancon_griffon        67\n",
              "golden_retriever         67\n",
              "eskimo_dog               66\n",
              "briard                   66\n",
              "Name: breed, Length: 120, dtype: int64"
            ]
          },
          "metadata": {},
          "execution_count": 16
        }
      ],
      "source": [
        "labels[\"breed\"].value_counts()"
      ]
    },
    {
      "cell_type": "code",
      "execution_count": 17,
      "metadata": {
        "id": "4oHuK_6Y4A8N"
      },
      "outputs": [],
      "source": [
        "#lets add 3 classes due to limitations of computational power\n",
        "CLASSES_NAME=[\"scottish_deerhound\",\"maltese_dog\",\"bernese_mountain_dog\"]\n",
        "labels=labels[labels[\"breed\"].isin(CLASSES_NAME)]"
      ]
    },
    {
      "cell_type": "code",
      "execution_count": 18,
      "metadata": {
        "colab": {
          "base_uri": "https://localhost:8080/"
        },
        "id": "UPHKf4W84cuH",
        "outputId": "29e1a72e-e54f-4ea4-ae6b-95d8c5b6b86f"
      },
      "outputs": [
        {
          "output_type": "execute_result",
          "data": {
            "text/plain": [
              "scottish_deerhound      126\n",
              "maltese_dog             117\n",
              "bernese_mountain_dog    114\n",
              "Name: breed, dtype: int64"
            ]
          },
          "metadata": {},
          "execution_count": 18
        }
      ],
      "source": [
        "labels[\"breed\"].value_counts()"
      ]
    },
    {
      "cell_type": "code",
      "execution_count": 19,
      "metadata": {
        "colab": {
          "base_uri": "https://localhost:8080/",
          "height": 204
        },
        "id": "WEpaIrdL54uN",
        "outputId": "7b7d8ab9-045c-4b73-a2e7-c94851316a65"
      },
      "outputs": [
        {
          "output_type": "execute_result",
          "data": {
            "text/html": [
              "\n",
              "  <div id=\"df-3ab172fb-149a-4c95-bcc2-7abbd524f751\">\n",
              "    <div class=\"colab-df-container\">\n",
              "      <div>\n",
              "<style scoped>\n",
              "    .dataframe tbody tr th:only-of-type {\n",
              "        vertical-align: middle;\n",
              "    }\n",
              "\n",
              "    .dataframe tbody tr th {\n",
              "        vertical-align: top;\n",
              "    }\n",
              "\n",
              "    .dataframe thead th {\n",
              "        text-align: right;\n",
              "    }\n",
              "</style>\n",
              "<table border=\"1\" class=\"dataframe\">\n",
              "  <thead>\n",
              "    <tr style=\"text-align: right;\">\n",
              "      <th></th>\n",
              "      <th>index</th>\n",
              "      <th>id</th>\n",
              "      <th>breed</th>\n",
              "    </tr>\n",
              "  </thead>\n",
              "  <tbody>\n",
              "    <tr>\n",
              "      <th>0</th>\n",
              "      <td>9</td>\n",
              "      <td>0042188c895a2f14ef64a918ed9c7b64</td>\n",
              "      <td>scottish_deerhound</td>\n",
              "    </tr>\n",
              "    <tr>\n",
              "      <th>1</th>\n",
              "      <td>12</td>\n",
              "      <td>00693b8bc2470375cc744a6391d397ec</td>\n",
              "      <td>maltese_dog</td>\n",
              "    </tr>\n",
              "    <tr>\n",
              "      <th>2</th>\n",
              "      <td>79</td>\n",
              "      <td>01e787576c003930f96c966f9c3e1d44</td>\n",
              "      <td>scottish_deerhound</td>\n",
              "    </tr>\n",
              "    <tr>\n",
              "      <th>3</th>\n",
              "      <td>90</td>\n",
              "      <td>022b34fd8734b39995a9f38a4f3e7b6b</td>\n",
              "      <td>maltese_dog</td>\n",
              "    </tr>\n",
              "    <tr>\n",
              "      <th>4</th>\n",
              "      <td>118</td>\n",
              "      <td>02d54f0dfb40038765e838459ae8c956</td>\n",
              "      <td>bernese_mountain_dog</td>\n",
              "    </tr>\n",
              "  </tbody>\n",
              "</table>\n",
              "</div>\n",
              "      <button class=\"colab-df-convert\" onclick=\"convertToInteractive('df-3ab172fb-149a-4c95-bcc2-7abbd524f751')\"\n",
              "              title=\"Convert this dataframe to an interactive table.\"\n",
              "              style=\"display:none;\">\n",
              "        \n",
              "  <svg xmlns=\"http://www.w3.org/2000/svg\" height=\"24px\"viewBox=\"0 0 24 24\"\n",
              "       width=\"24px\">\n",
              "    <path d=\"M0 0h24v24H0V0z\" fill=\"none\"/>\n",
              "    <path d=\"M18.56 5.44l.94 2.06.94-2.06 2.06-.94-2.06-.94-.94-2.06-.94 2.06-2.06.94zm-11 1L8.5 8.5l.94-2.06 2.06-.94-2.06-.94L8.5 2.5l-.94 2.06-2.06.94zm10 10l.94 2.06.94-2.06 2.06-.94-2.06-.94-.94-2.06-.94 2.06-2.06.94z\"/><path d=\"M17.41 7.96l-1.37-1.37c-.4-.4-.92-.59-1.43-.59-.52 0-1.04.2-1.43.59L10.3 9.45l-7.72 7.72c-.78.78-.78 2.05 0 2.83L4 21.41c.39.39.9.59 1.41.59.51 0 1.02-.2 1.41-.59l7.78-7.78 2.81-2.81c.8-.78.8-2.07 0-2.86zM5.41 20L4 18.59l7.72-7.72 1.47 1.35L5.41 20z\"/>\n",
              "  </svg>\n",
              "      </button>\n",
              "      \n",
              "  <style>\n",
              "    .colab-df-container {\n",
              "      display:flex;\n",
              "      flex-wrap:wrap;\n",
              "      gap: 12px;\n",
              "    }\n",
              "\n",
              "    .colab-df-convert {\n",
              "      background-color: #E8F0FE;\n",
              "      border: none;\n",
              "      border-radius: 50%;\n",
              "      cursor: pointer;\n",
              "      display: none;\n",
              "      fill: #1967D2;\n",
              "      height: 32px;\n",
              "      padding: 0 0 0 0;\n",
              "      width: 32px;\n",
              "    }\n",
              "\n",
              "    .colab-df-convert:hover {\n",
              "      background-color: #E2EBFA;\n",
              "      box-shadow: 0px 1px 2px rgba(60, 64, 67, 0.3), 0px 1px 3px 1px rgba(60, 64, 67, 0.15);\n",
              "      fill: #174EA6;\n",
              "    }\n",
              "\n",
              "    [theme=dark] .colab-df-convert {\n",
              "      background-color: #3B4455;\n",
              "      fill: #D2E3FC;\n",
              "    }\n",
              "\n",
              "    [theme=dark] .colab-df-convert:hover {\n",
              "      background-color: #434B5C;\n",
              "      box-shadow: 0px 1px 3px 1px rgba(0, 0, 0, 0.15);\n",
              "      filter: drop-shadow(0px 1px 2px rgba(0, 0, 0, 0.3));\n",
              "      fill: #FFFFFF;\n",
              "    }\n",
              "  </style>\n",
              "\n",
              "      <script>\n",
              "        const buttonEl =\n",
              "          document.querySelector('#df-3ab172fb-149a-4c95-bcc2-7abbd524f751 button.colab-df-convert');\n",
              "        buttonEl.style.display =\n",
              "          google.colab.kernel.accessAllowed ? 'block' : 'none';\n",
              "\n",
              "        async function convertToInteractive(key) {\n",
              "          const element = document.querySelector('#df-3ab172fb-149a-4c95-bcc2-7abbd524f751');\n",
              "          const dataTable =\n",
              "            await google.colab.kernel.invokeFunction('convertToInteractive',\n",
              "                                                     [key], {});\n",
              "          if (!dataTable) return;\n",
              "\n",
              "          const docLinkHtml = 'Like what you see? Visit the ' +\n",
              "            '<a target=\"_blank\" href=https://colab.research.google.com/notebooks/data_table.ipynb>data table notebook</a>'\n",
              "            + ' to learn more about interactive tables.';\n",
              "          element.innerHTML = '';\n",
              "          dataTable['output_type'] = 'display_data';\n",
              "          await google.colab.output.renderOutput(dataTable, element);\n",
              "          const docLink = document.createElement('div');\n",
              "          docLink.innerHTML = docLinkHtml;\n",
              "          element.appendChild(docLink);\n",
              "        }\n",
              "      </script>\n",
              "    </div>\n",
              "  </div>\n",
              "  "
            ],
            "text/plain": [
              "   index                                id                 breed\n",
              "0      9  0042188c895a2f14ef64a918ed9c7b64    scottish_deerhound\n",
              "1     12  00693b8bc2470375cc744a6391d397ec           maltese_dog\n",
              "2     79  01e787576c003930f96c966f9c3e1d44    scottish_deerhound\n",
              "3     90  022b34fd8734b39995a9f38a4f3e7b6b           maltese_dog\n",
              "4    118  02d54f0dfb40038765e838459ae8c956  bernese_mountain_dog"
            ]
          },
          "metadata": {},
          "execution_count": 19
        }
      ],
      "source": [
        "labels=labels.reset_index()\n",
        "labels.head()"
      ]
    },
    {
      "cell_type": "code",
      "execution_count": 20,
      "metadata": {
        "colab": {
          "base_uri": "https://localhost:8080/"
        },
        "id": "YcSWZpPF3_Vt",
        "outputId": "36c7769f-a0de-4d06-aaae-c0012ec361ca"
      },
      "outputs": [
        {
          "output_type": "stream",
          "name": "stderr",
          "text": [
            "100%|██████████| 357/357 [00:08<00:00, 40.98it/s]"
          ]
        },
        {
          "output_type": "stream",
          "name": "stdout",
          "text": [
            "(357, 224, 224, 3)\n"
          ]
        },
        {
          "output_type": "stream",
          "name": "stderr",
          "text": [
            "\n"
          ]
        }
      ],
      "source": [
        "training_x=np.zeros(shape=(len(labels),224,224,3))\n",
        "for i in tqdm(range(len(labels))):  #tqdm is to show the loading\n",
        "  img=Image.open(f\"./dog_dataset/train/{labels['id'][i]}.jpg\")\n",
        "  img=img.resize((224,224)) \n",
        "  training_x[i]=img\n",
        "print(training_x.shape)"
      ]
    },
    {
      "cell_type": "code",
      "execution_count": 21,
      "metadata": {
        "colab": {
          "base_uri": "https://localhost:8080/",
          "height": 286
        },
        "id": "RLv3Dro97ADM",
        "outputId": "4a44d3f0-5a85-4c2c-91e3-838c60b070e0"
      },
      "outputs": [
        {
          "output_type": "execute_result",
          "data": {
            "text/plain": [
              "<matplotlib.image.AxesImage at 0x7f614b02fe50>"
            ]
          },
          "metadata": {},
          "execution_count": 21
        },
        {
          "output_type": "display_data",
          "data": {
            "image/png": "[encoded data removed]",
            "text/plain": [
              "<Figure size 432x288 with 1 Axes>"
            ]
          },
          "metadata": {
            "needs_background": "light"
          }
        }
      ],
      "source": [
        "plt.imshow(training_x[0].astype(\"uint8\"))"
      ]
    },
    {
      "cell_type": "code",
      "source": [
        "training_y=label_binarize(labels[\"breed\"],classes=CLASSES_NAME)\n",
        "training_y"
      ],
      "metadata": {
        "colab": {
          "base_uri": "https://localhost:8080/"
        },
        "id": "ywidWd2LHARp",
        "outputId": "026bd901-fc42-454b-ca9e-86e987178fee"
      },
      "execution_count": 22,
      "outputs": [
        {
          "output_type": "execute_result",
          "data": {
            "text/plain": [
              "array([[1, 0, 0],\n",
              "       [0, 1, 0],\n",
              "       [1, 0, 0],\n",
              "       ...,\n",
              "       [0, 0, 1],\n",
              "       [0, 1, 0],\n",
              "       [0, 1, 0]])"
            ]
          },
          "metadata": {},
          "execution_count": 22
        }
      ]
    },
    {
      "cell_type": "code",
      "execution_count": 23,
      "metadata": {
        "id": "-qWv4GLrXXvV"
      },
      "outputs": [],
      "source": [
        "xtrain_val,xtest,ytrain_val,ytest=train_test_split(training_x,training_y,test_size=0.1)"
      ]
    },
    {
      "cell_type": "code",
      "execution_count": 24,
      "metadata": {
        "id": "w4q6JuVAvCQv"
      },
      "outputs": [],
      "source": [
        "xtrain,xval,ytrain,yval=train_test_split(xtrain_val,ytrain_val,test_size=0.1)"
      ]
    },
    {
      "cell_type": "code",
      "execution_count": 25,
      "metadata": {
        "id": "Zm7kZuxwvSuN",
        "colab": {
          "base_uri": "https://localhost:8080/"
        },
        "outputId": "64a29dec-e1e6-4f68-e56b-801f9b615c52"
      },
      "outputs": [
        {
          "output_type": "stream",
          "name": "stdout",
          "text": [
            "Model: \"sequential\"\n",
            "_________________________________________________________________\n",
            " Layer (type)                Output Shape              Param #   \n",
            "=================================================================\n",
            " conv2d (Conv2D)             (None, 222, 222, 64)      1792      \n",
            "                                                                 \n",
            " max_pooling2d (MaxPooling2D  (None, 74, 74, 64)       0         \n",
            " )                                                               \n",
            "                                                                 \n",
            " conv2d_1 (Conv2D)           (None, 72, 72, 32)        18464     \n",
            "                                                                 \n",
            " max_pooling2d_1 (MaxPooling  (None, 24, 24, 32)       0         \n",
            " 2D)                                                             \n",
            "                                                                 \n",
            " conv2d_2 (Conv2D)           (None, 22, 22, 16)        4624      \n",
            "                                                                 \n",
            " max_pooling2d_2 (MaxPooling  (None, 7, 7, 16)         0         \n",
            " 2D)                                                             \n",
            "                                                                 \n",
            " conv2d_3 (Conv2D)           (None, 5, 5, 8)           1160      \n",
            "                                                                 \n",
            " max_pooling2d_3 (MaxPooling  (None, 1, 1, 8)          0         \n",
            " 2D)                                                             \n",
            "                                                                 \n",
            " flatten (Flatten)           (None, 8)                 0         \n",
            "                                                                 \n",
            " dense (Dense)               (None, 64)                576       \n",
            "                                                                 \n",
            " dense_1 (Dense)             (None, 32)                2080      \n",
            "                                                                 \n",
            " dense_2 (Dense)             (None, 3)                 99        \n",
            "                                                                 \n",
            "=================================================================\n",
            "Total params: 28,795\n",
            "Trainable params: 28,795\n",
            "Non-trainable params: 0\n",
            "_________________________________________________________________\n"
          ]
        }
      ],
      "source": [
        "model=Sequential()\n",
        "model.add(Conv2D(filters=64,kernel_size=(3,3),activation=\"relu\",input_shape=(224,224,3)))\n",
        "model.add(MaxPool2D(pool_size=(3,3)))\n",
        "model.add(Conv2D(filters=32,kernel_size=(3,3),activation=\"relu\",input_shape=(224,224,3)))\n",
        "model.add(MaxPool2D(pool_size=(3,3)))\n",
        "model.add(Conv2D(filters=16,kernel_size=(3,3),activation=\"relu\",input_shape=(224,224,3)))\n",
        "model.add(MaxPool2D(pool_size=(3,3)))\n",
        "model.add(Conv2D(filters=8,kernel_size=(3,3),activation=\"relu\",input_shape=(224,224,3)))\n",
        "model.add(MaxPool2D(pool_size=(3,3)))\n",
        "model.add(Flatten())\n",
        "model.add(Dense(64,activation=\"relu\",))\n",
        "model.add(Dense(32,activation=\"relu\",))\n",
        "model.add(Dense(3,activation=\"softmax\",))\n",
        "model.compile(loss=\"categorical_crossentropy\",optimizer=Adam(0.0001),metrics=[\"accuracy\"])\n",
        "model.summary()"
      ]
    },
    {
      "cell_type": "code",
      "source": [
        "history=model.fit(xtrain,ytrain,validation_data=(xval,yval),epochs=50,batch_size=32,)"
      ],
      "metadata": {
        "colab": {
          "base_uri": "https://localhost:8080/"
        },
        "id": "SW-FGY8lMEj_",
        "outputId": "368833c8-64c5-4a0c-9349-33246ec42421"
      },
      "execution_count": 43,
      "outputs": [
        {
          "output_type": "stream",
          "name": "stdout",
          "text": [
            "Epoch 1/50\n",
            "9/9 [==============================] - 18s 2s/step - loss: 0.5727 - accuracy: 0.7847 - val_loss: 0.7411 - val_accuracy: 0.6667\n",
            "Epoch 2/50\n",
            "9/9 [==============================] - 18s 2s/step - loss: 0.5594 - accuracy: 0.7917 - val_loss: 0.7910 - val_accuracy: 0.5758\n",
            "Epoch 3/50\n",
            "9/9 [==============================] - 17s 2s/step - loss: 0.5371 - accuracy: 0.7951 - val_loss: 0.7179 - val_accuracy: 0.6667\n",
            "Epoch 4/50\n",
            "9/9 [==============================] - 17s 2s/step - loss: 0.5108 - accuracy: 0.8403 - val_loss: 0.7227 - val_accuracy: 0.6667\n",
            "Epoch 5/50\n",
            "9/9 [==============================] - 17s 2s/step - loss: 0.4997 - accuracy: 0.8056 - val_loss: 0.6834 - val_accuracy: 0.6667\n",
            "Epoch 6/50\n",
            "9/9 [==============================] - 17s 2s/step - loss: 0.4770 - accuracy: 0.8507 - val_loss: 0.7209 - val_accuracy: 0.6667\n",
            "Epoch 7/50\n",
            "9/9 [==============================] - 17s 2s/step - loss: 0.4864 - accuracy: 0.8160 - val_loss: 0.6964 - val_accuracy: 0.6970\n",
            "Epoch 8/50\n",
            "9/9 [==============================] - 18s 2s/step - loss: 0.4645 - accuracy: 0.8229 - val_loss: 0.6967 - val_accuracy: 0.6970\n",
            "Epoch 9/50\n",
            "9/9 [==============================] - 17s 2s/step - loss: 0.4533 - accuracy: 0.8403 - val_loss: 0.6639 - val_accuracy: 0.6970\n",
            "Epoch 10/50\n",
            "9/9 [==============================] - 17s 2s/step - loss: 0.4197 - accuracy: 0.8472 - val_loss: 0.6675 - val_accuracy: 0.6667\n",
            "Epoch 11/50\n",
            "9/9 [==============================] - 17s 2s/step - loss: 0.4102 - accuracy: 0.8646 - val_loss: 0.6577 - val_accuracy: 0.6667\n",
            "Epoch 12/50\n",
            "9/9 [==============================] - 20s 2s/step - loss: 0.3986 - accuracy: 0.8750 - val_loss: 0.6647 - val_accuracy: 0.6970\n",
            "Epoch 13/50\n",
            "9/9 [==============================] - 17s 2s/step - loss: 0.4050 - accuracy: 0.8646 - val_loss: 0.6332 - val_accuracy: 0.6667\n",
            "Epoch 14/50\n",
            "9/9 [==============================] - 17s 2s/step - loss: 0.3780 - accuracy: 0.8958 - val_loss: 0.6459 - val_accuracy: 0.6970\n",
            "Epoch 15/50\n",
            "9/9 [==============================] - 17s 2s/step - loss: 0.3538 - accuracy: 0.9028 - val_loss: 0.6110 - val_accuracy: 0.7273\n",
            "Epoch 16/50\n",
            "9/9 [==============================] - 17s 2s/step - loss: 0.3436 - accuracy: 0.9132 - val_loss: 0.6334 - val_accuracy: 0.7273\n",
            "Epoch 17/50\n",
            "9/9 [==============================] - 17s 2s/step - loss: 0.3292 - accuracy: 0.9236 - val_loss: 0.6471 - val_accuracy: 0.7576\n",
            "Epoch 18/50\n",
            "9/9 [==============================] - 17s 2s/step - loss: 0.3212 - accuracy: 0.9167 - val_loss: 0.6158 - val_accuracy: 0.7576\n",
            "Epoch 19/50\n",
            "9/9 [==============================] - 17s 2s/step - loss: 0.3094 - accuracy: 0.9271 - val_loss: 0.6464 - val_accuracy: 0.7879\n",
            "Epoch 20/50\n",
            "9/9 [==============================] - 17s 2s/step - loss: 0.3052 - accuracy: 0.9306 - val_loss: 0.6131 - val_accuracy: 0.7576\n",
            "Epoch 21/50\n",
            "9/9 [==============================] - 17s 2s/step - loss: 0.2862 - accuracy: 0.9375 - val_loss: 0.6342 - val_accuracy: 0.7273\n",
            "Epoch 22/50\n",
            "9/9 [==============================] - 17s 2s/step - loss: 0.2745 - accuracy: 0.9410 - val_loss: 0.5777 - val_accuracy: 0.7576\n",
            "Epoch 23/50\n",
            "9/9 [==============================] - 17s 2s/step - loss: 0.2631 - accuracy: 0.9514 - val_loss: 0.6351 - val_accuracy: 0.7576\n",
            "Epoch 24/50\n",
            "9/9 [==============================] - 17s 2s/step - loss: 0.2530 - accuracy: 0.9479 - val_loss: 0.5709 - val_accuracy: 0.7879\n",
            "Epoch 25/50\n",
            "9/9 [==============================] - 17s 2s/step - loss: 0.2516 - accuracy: 0.9375 - val_loss: 0.6092 - val_accuracy: 0.7576\n",
            "Epoch 26/50\n",
            "9/9 [==============================] - 17s 2s/step - loss: 0.2460 - accuracy: 0.9479 - val_loss: 0.6146 - val_accuracy: 0.8182\n",
            "Epoch 27/50\n",
            "9/9 [==============================] - 17s 2s/step - loss: 0.2376 - accuracy: 0.9514 - val_loss: 0.5964 - val_accuracy: 0.8182\n",
            "Epoch 28/50\n",
            "9/9 [==============================] - 17s 2s/step - loss: 0.2606 - accuracy: 0.9201 - val_loss: 0.6861 - val_accuracy: 0.7879\n",
            "Epoch 29/50\n",
            "9/9 [==============================] - 17s 2s/step - loss: 0.2529 - accuracy: 0.9306 - val_loss: 0.5663 - val_accuracy: 0.7576\n",
            "Epoch 30/50\n",
            "9/9 [==============================] - 17s 2s/step - loss: 0.2124 - accuracy: 0.9618 - val_loss: 0.5653 - val_accuracy: 0.7879\n",
            "Epoch 31/50\n",
            "9/9 [==============================] - 17s 2s/step - loss: 0.1960 - accuracy: 0.9653 - val_loss: 0.5886 - val_accuracy: 0.8182\n",
            "Epoch 32/50\n",
            "9/9 [==============================] - 17s 2s/step - loss: 0.1946 - accuracy: 0.9722 - val_loss: 0.5752 - val_accuracy: 0.8182\n",
            "Epoch 33/50\n",
            "9/9 [==============================] - 17s 2s/step - loss: 0.1833 - accuracy: 0.9653 - val_loss: 0.5848 - val_accuracy: 0.7879\n",
            "Epoch 34/50\n",
            "9/9 [==============================] - 17s 2s/step - loss: 0.1766 - accuracy: 0.9722 - val_loss: 0.5721 - val_accuracy: 0.7576\n",
            "Epoch 35/50\n",
            "9/9 [==============================] - 17s 2s/step - loss: 0.1699 - accuracy: 0.9653 - val_loss: 0.5626 - val_accuracy: 0.8182\n",
            "Epoch 36/50\n",
            "9/9 [==============================] - 17s 2s/step - loss: 0.1643 - accuracy: 0.9653 - val_loss: 0.5518 - val_accuracy: 0.8182\n",
            "Epoch 37/50\n",
            "9/9 [==============================] - 17s 2s/step - loss: 0.1608 - accuracy: 0.9757 - val_loss: 0.5489 - val_accuracy: 0.8182\n",
            "Epoch 38/50\n",
            "9/9 [==============================] - 17s 2s/step - loss: 0.1641 - accuracy: 0.9757 - val_loss: 0.5413 - val_accuracy: 0.8182\n",
            "Epoch 39/50\n",
            "9/9 [==============================] - 17s 2s/step - loss: 0.1637 - accuracy: 0.9653 - val_loss: 0.5998 - val_accuracy: 0.8182\n",
            "Epoch 40/50\n",
            "9/9 [==============================] - 18s 2s/step - loss: 0.1493 - accuracy: 0.9653 - val_loss: 0.5815 - val_accuracy: 0.8182\n",
            "Epoch 41/50\n",
            "9/9 [==============================] - 17s 2s/step - loss: 0.1315 - accuracy: 0.9722 - val_loss: 0.5491 - val_accuracy: 0.8182\n",
            "Epoch 42/50\n",
            "9/9 [==============================] - 17s 2s/step - loss: 0.1478 - accuracy: 0.9688 - val_loss: 0.6155 - val_accuracy: 0.8182\n",
            "Epoch 43/50\n",
            "9/9 [==============================] - 17s 2s/step - loss: 0.1340 - accuracy: 0.9792 - val_loss: 0.5634 - val_accuracy: 0.7879\n",
            "Epoch 44/50\n",
            "9/9 [==============================] - 17s 2s/step - loss: 0.1222 - accuracy: 0.9826 - val_loss: 0.6151 - val_accuracy: 0.8182\n",
            "Epoch 45/50\n",
            "9/9 [==============================] - 17s 2s/step - loss: 0.1143 - accuracy: 0.9792 - val_loss: 0.5633 - val_accuracy: 0.8182\n",
            "Epoch 46/50\n",
            "9/9 [==============================] - 17s 2s/step - loss: 0.1075 - accuracy: 0.9826 - val_loss: 0.6000 - val_accuracy: 0.8182\n",
            "Epoch 47/50\n",
            "9/9 [==============================] - 17s 2s/step - loss: 0.1114 - accuracy: 0.9826 - val_loss: 0.5599 - val_accuracy: 0.8182\n",
            "Epoch 48/50\n",
            "9/9 [==============================] - 17s 2s/step - loss: 0.1049 - accuracy: 0.9861 - val_loss: 0.5989 - val_accuracy: 0.8485\n",
            "Epoch 49/50\n",
            "9/9 [==============================] - 17s 2s/step - loss: 0.1059 - accuracy: 0.9826 - val_loss: 0.5489 - val_accuracy: 0.7879\n",
            "Epoch 50/50\n",
            "9/9 [==============================] - 17s 2s/step - loss: 0.1081 - accuracy: 0.9861 - val_loss: 0.5779 - val_accuracy: 0.8485\n"
          ]
        }
      ]
    },
    {
      "cell_type": "code",
      "source": [
        "model.evaluate(xtest,ytest)"
      ],
      "metadata": {
        "colab": {
          "base_uri": "https://localhost:8080/"
        },
        "id": "K4ijl82-MNGH",
        "outputId": "4e251202-5842-42d5-f308-e4efd3bf50fd"
      },
      "execution_count": 44,
      "outputs": [
        {
          "output_type": "stream",
          "name": "stdout",
          "text": [
            "2/2 [==============================] - 1s 69ms/step - loss: 0.9405 - accuracy: 0.6944\n"
          ]
        },
        {
          "output_type": "execute_result",
          "data": {
            "text/plain": [
              "[0.9404749274253845, 0.6944444179534912]"
            ]
          },
          "metadata": {},
          "execution_count": 44
        }
      ]
    },
    {
      "cell_type": "code",
      "source": [
        "results=pd.DataFrame(history.history,columns=history.history.keys())"
      ],
      "metadata": {
        "id": "9NLzxnk3PjB5"
      },
      "execution_count": 45,
      "outputs": []
    },
    {
      "cell_type": "code",
      "source": [
        "results.plot()"
      ],
      "metadata": {
        "colab": {
          "base_uri": "https://localhost:8080/",
          "height": 282
        },
        "id": "bcusg7ZwPkzH",
        "outputId": "0e59b4b0-c3a9-47b6-c803-2fc9a72aa539"
      },
      "execution_count": 46,
      "outputs": [
        {
          "output_type": "execute_result",
          "data": {
            "text/plain": [
              "<matplotlib.axes._subplots.AxesSubplot at 0x7f6142e65e90>"
            ]
          },
          "metadata": {},
          "execution_count": 46
        },
        {
          "output_type": "display_data",
          "data": {
            "image/png": "[encoded data removed]",
            "text/plain": [
              "<Figure size 432x288 with 1 Axes>"
            ]
          },
          "metadata": {
            "needs_background": "light"
          }
        }
      ]
    },
    {
      "cell_type": "code",
      "source": [
        "predicted=model.predict(np.expand_dims(xtest[1],axis=0))"
      ],
      "metadata": {
        "id": "ftdPRN1iUMvq"
      },
      "execution_count": 52,
      "outputs": []
    },
    {
      "cell_type": "code",
      "source": [
        "CLASSES_NAME[predicted.argmax()]"
      ],
      "metadata": {
        "colab": {
          "base_uri": "https://localhost:8080/",
          "height": 37
        },
        "id": "5dj0lfCwUh5l",
        "outputId": "e64d1c1a-8d8b-407c-be65-3bab225fea9a"
      },
      "execution_count": 53,
      "outputs": [
        {
          "output_type": "execute_result",
          "data": {
            "application/vnd.google.colaboratory.intrinsic+json": {
              "type": "string"
            },
            "text/plain": [
              "'maltese_dog'"
            ]
          },
          "metadata": {},
          "execution_count": 53
        }
      ]
    },
    {
      "cell_type": "code",
      "source": [
        "CLASSES_NAME[ytest[1].argmax()]"
      ],
      "metadata": {
        "colab": {
          "base_uri": "https://localhost:8080/",
          "height": 37
        },
        "id": "2G15wouAVQp3",
        "outputId": "17cbf8de-d5c4-46fd-f714-324f7a410cca"
      },
      "execution_count": 51,
      "outputs": [
        {
          "output_type": "execute_result",
          "data": {
            "application/vnd.google.colaboratory.intrinsic+json": {
              "type": "string"
            },
            "text/plain": [
              "'maltese_dog'"
            ]
          },
          "metadata": {},
          "execution_count": 51
        }
      ]
    },
    {
      "cell_type": "code",
      "source": [
        ""
      ],
      "metadata": {
        "id": "Cmvk6TGmaCul"
      },
      "execution_count": null,
      "outputs": []
    }
  ],
  "metadata": {
    "colab": {
      "name": "Dog Breed Prediction.ipynb",
      "provenance": [],
      "authorship_tag": "ABX9TyO2h6JZ2Kwu6xHoG5UWbmNR",
      "include_colab_link": true
    },
    "kernelspec": {
      "display_name": "Python 3",
      "name": "python3"
    },
    "language_info": {
      "name": "python"
    },
    "accelerator": "TPU"
  },
  "nbformat": 4,
  "nbformat_minor": 0
}